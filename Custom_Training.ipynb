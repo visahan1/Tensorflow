{
  "nbformat": 4,
  "nbformat_minor": 0,
  "metadata": {
    "colab": {
      "name": "Untitled4.ipynb",
      "provenance": [],
      "authorship_tag": "ABX9TyNNpIeQO0rNloHhPx07vGZW",
      "include_colab_link": true
    },
    "kernelspec": {
      "name": "python3",
      "display_name": "Python 3"
    },
    "language_info": {
      "name": "python"
    }
  },
  "cells": [
    {
      "cell_type": "markdown",
      "metadata": {
        "id": "view-in-github",
        "colab_type": "text"
      },
      "source": [
        "<a href=\"https://colab.research.google.com/github/visahan1/Tensorflow/blob/main/Custom_Training.ipynb\" target=\"_parent\"><img src=\"https://colab.research.google.com/assets/colab-badge.svg\" alt=\"Open In Colab\"/></a>"
      ]
    },
    {
      "cell_type": "markdown",
      "metadata": {
        "id": "t-6dnTyWHSd1"
      },
      "source": [
        "# Breast Cancer Prediction\n",
        "\n",
        "In this exercise, you will train a neural network on the [Breast Cancer Dataset](https://archive.ics.uci.edu/ml/datasets/breast+cancer+wisconsin+(original)) to predict if the tumor is malignant or benign.\n"
      ]
    },
    {
      "cell_type": "code",
      "metadata": {
        "id": "ivUssdHjHWN5"
      },
      "source": [
        "import tensorflow as tf\n",
        "from tensorflow.keras.models import Model\n",
        "from tensorflow.keras.layers import Dense, Input\n",
        "\n",
        "import numpy as np\n",
        "import matplotlib.pyplot as plt\n",
        "import matplotlib.ticker as mticker\n",
        "import pandas as pd\n",
        "from sklearn.model_selection import train_test_split\n",
        "from sklearn.metrics import confusion_matrix\n",
        "import itertools\n",
        "from tqdm import tqdm\n",
        "import tensorflow_datasets as tfds\n",
        "\n",
        "tf.get_logger().setLevel('ERROR')"
      ],
      "execution_count": 118,
      "outputs": []
    },
    {
      "cell_type": "markdown",
      "metadata": {
        "id": "PBHQunozHwxx"
      },
      "source": [
        "## Load and Preprocess the Dataset"
      ]
    },
    {
      "cell_type": "code",
      "metadata": {
        "id": "vRQvCc2JHZXC"
      },
      "source": [
        "data_file = './breast-cancer-wisconsin.data'\n",
        "col_names = [\"id\", \"clump_thickness\", \"un_cell_size\", \"un_cell_shape\", \"marginal_adheshion\", \"single_eph_cell_size\", \"bare_nuclei\", \"bland_chromatin\", \"normal_nucleoli\", \"mitoses\", \"class\"]\n",
        "df = pd.read_csv(data_file, names=col_names, header=None)"
      ],
      "execution_count": 119,
      "outputs": []
    },
    {
      "cell_type": "code",
      "metadata": {
        "colab": {
          "base_uri": "https://localhost:8080/",
          "height": 222
        },
        "id": "ZMg_qDx5H6P4",
        "outputId": "1fd2cc4e-b1d4-405c-9f93-14cd5c2b4764"
      },
      "source": [
        "df.head()"
      ],
      "execution_count": 120,
      "outputs": [
        {
          "output_type": "execute_result",
          "data": {
            "text/html": [
              "<div>\n",
              "<style scoped>\n",
              "    .dataframe tbody tr th:only-of-type {\n",
              "        vertical-align: middle;\n",
              "    }\n",
              "\n",
              "    .dataframe tbody tr th {\n",
              "        vertical-align: top;\n",
              "    }\n",
              "\n",
              "    .dataframe thead th {\n",
              "        text-align: right;\n",
              "    }\n",
              "</style>\n",
              "<table border=\"1\" class=\"dataframe\">\n",
              "  <thead>\n",
              "    <tr style=\"text-align: right;\">\n",
              "      <th></th>\n",
              "      <th>id</th>\n",
              "      <th>clump_thickness</th>\n",
              "      <th>un_cell_size</th>\n",
              "      <th>un_cell_shape</th>\n",
              "      <th>marginal_adheshion</th>\n",
              "      <th>single_eph_cell_size</th>\n",
              "      <th>bare_nuclei</th>\n",
              "      <th>bland_chromatin</th>\n",
              "      <th>normal_nucleoli</th>\n",
              "      <th>mitoses</th>\n",
              "      <th>class</th>\n",
              "    </tr>\n",
              "  </thead>\n",
              "  <tbody>\n",
              "    <tr>\n",
              "      <th>0</th>\n",
              "      <td>1000025</td>\n",
              "      <td>5</td>\n",
              "      <td>1</td>\n",
              "      <td>1</td>\n",
              "      <td>1</td>\n",
              "      <td>2</td>\n",
              "      <td>1</td>\n",
              "      <td>3</td>\n",
              "      <td>1</td>\n",
              "      <td>1</td>\n",
              "      <td>2</td>\n",
              "    </tr>\n",
              "    <tr>\n",
              "      <th>1</th>\n",
              "      <td>1002945</td>\n",
              "      <td>5</td>\n",
              "      <td>4</td>\n",
              "      <td>4</td>\n",
              "      <td>5</td>\n",
              "      <td>7</td>\n",
              "      <td>10</td>\n",
              "      <td>3</td>\n",
              "      <td>2</td>\n",
              "      <td>1</td>\n",
              "      <td>2</td>\n",
              "    </tr>\n",
              "    <tr>\n",
              "      <th>2</th>\n",
              "      <td>1015425</td>\n",
              "      <td>3</td>\n",
              "      <td>1</td>\n",
              "      <td>1</td>\n",
              "      <td>1</td>\n",
              "      <td>2</td>\n",
              "      <td>2</td>\n",
              "      <td>3</td>\n",
              "      <td>1</td>\n",
              "      <td>1</td>\n",
              "      <td>2</td>\n",
              "    </tr>\n",
              "    <tr>\n",
              "      <th>3</th>\n",
              "      <td>1016277</td>\n",
              "      <td>6</td>\n",
              "      <td>8</td>\n",
              "      <td>8</td>\n",
              "      <td>1</td>\n",
              "      <td>3</td>\n",
              "      <td>4</td>\n",
              "      <td>3</td>\n",
              "      <td>7</td>\n",
              "      <td>1</td>\n",
              "      <td>2</td>\n",
              "    </tr>\n",
              "    <tr>\n",
              "      <th>4</th>\n",
              "      <td>1017023</td>\n",
              "      <td>4</td>\n",
              "      <td>1</td>\n",
              "      <td>1</td>\n",
              "      <td>3</td>\n",
              "      <td>2</td>\n",
              "      <td>1</td>\n",
              "      <td>3</td>\n",
              "      <td>1</td>\n",
              "      <td>1</td>\n",
              "      <td>2</td>\n",
              "    </tr>\n",
              "  </tbody>\n",
              "</table>\n",
              "</div>"
            ],
            "text/plain": [
              "        id  clump_thickness  un_cell_size  ...  normal_nucleoli  mitoses  class\n",
              "0  1000025                5             1  ...                1        1      2\n",
              "1  1002945                5             4  ...                2        1      2\n",
              "2  1015425                3             1  ...                1        1      2\n",
              "3  1016277                6             8  ...                7        1      2\n",
              "4  1017023                4             1  ...                1        1      2\n",
              "\n",
              "[5 rows x 11 columns]"
            ]
          },
          "metadata": {
            "tags": []
          },
          "execution_count": 120
        }
      ]
    },
    {
      "cell_type": "markdown",
      "metadata": {
        "id": "Uf8gJFkdIX9B"
      },
      "source": [
        "We have to do some preprocessing on the data. We first pop the id column since it is of no use for our problem at hand."
      ]
    },
    {
      "cell_type": "code",
      "metadata": {
        "colab": {
          "base_uri": "https://localhost:8080/",
          "height": 314
        },
        "id": "wwmv268LH7Uh",
        "outputId": "8462810e-99e4-473f-d1b3-70a785f78f7c"
      },
      "source": [
        "df.pop(\"id\")\n",
        "df.describe()"
      ],
      "execution_count": 121,
      "outputs": [
        {
          "output_type": "execute_result",
          "data": {
            "text/html": [
              "<div>\n",
              "<style scoped>\n",
              "    .dataframe tbody tr th:only-of-type {\n",
              "        vertical-align: middle;\n",
              "    }\n",
              "\n",
              "    .dataframe tbody tr th {\n",
              "        vertical-align: top;\n",
              "    }\n",
              "\n",
              "    .dataframe thead th {\n",
              "        text-align: right;\n",
              "    }\n",
              "</style>\n",
              "<table border=\"1\" class=\"dataframe\">\n",
              "  <thead>\n",
              "    <tr style=\"text-align: right;\">\n",
              "      <th></th>\n",
              "      <th>clump_thickness</th>\n",
              "      <th>un_cell_size</th>\n",
              "      <th>un_cell_shape</th>\n",
              "      <th>marginal_adheshion</th>\n",
              "      <th>single_eph_cell_size</th>\n",
              "      <th>bland_chromatin</th>\n",
              "      <th>normal_nucleoli</th>\n",
              "      <th>mitoses</th>\n",
              "      <th>class</th>\n",
              "    </tr>\n",
              "  </thead>\n",
              "  <tbody>\n",
              "    <tr>\n",
              "      <th>count</th>\n",
              "      <td>699.000000</td>\n",
              "      <td>699.000000</td>\n",
              "      <td>699.000000</td>\n",
              "      <td>699.000000</td>\n",
              "      <td>699.000000</td>\n",
              "      <td>699.000000</td>\n",
              "      <td>699.000000</td>\n",
              "      <td>699.000000</td>\n",
              "      <td>699.000000</td>\n",
              "    </tr>\n",
              "    <tr>\n",
              "      <th>mean</th>\n",
              "      <td>4.417740</td>\n",
              "      <td>3.134478</td>\n",
              "      <td>3.207439</td>\n",
              "      <td>2.806867</td>\n",
              "      <td>3.216023</td>\n",
              "      <td>3.437768</td>\n",
              "      <td>2.866953</td>\n",
              "      <td>1.589413</td>\n",
              "      <td>2.689557</td>\n",
              "    </tr>\n",
              "    <tr>\n",
              "      <th>std</th>\n",
              "      <td>2.815741</td>\n",
              "      <td>3.051459</td>\n",
              "      <td>2.971913</td>\n",
              "      <td>2.855379</td>\n",
              "      <td>2.214300</td>\n",
              "      <td>2.438364</td>\n",
              "      <td>3.053634</td>\n",
              "      <td>1.715078</td>\n",
              "      <td>0.951273</td>\n",
              "    </tr>\n",
              "    <tr>\n",
              "      <th>min</th>\n",
              "      <td>1.000000</td>\n",
              "      <td>1.000000</td>\n",
              "      <td>1.000000</td>\n",
              "      <td>1.000000</td>\n",
              "      <td>1.000000</td>\n",
              "      <td>1.000000</td>\n",
              "      <td>1.000000</td>\n",
              "      <td>1.000000</td>\n",
              "      <td>2.000000</td>\n",
              "    </tr>\n",
              "    <tr>\n",
              "      <th>25%</th>\n",
              "      <td>2.000000</td>\n",
              "      <td>1.000000</td>\n",
              "      <td>1.000000</td>\n",
              "      <td>1.000000</td>\n",
              "      <td>2.000000</td>\n",
              "      <td>2.000000</td>\n",
              "      <td>1.000000</td>\n",
              "      <td>1.000000</td>\n",
              "      <td>2.000000</td>\n",
              "    </tr>\n",
              "    <tr>\n",
              "      <th>50%</th>\n",
              "      <td>4.000000</td>\n",
              "      <td>1.000000</td>\n",
              "      <td>1.000000</td>\n",
              "      <td>1.000000</td>\n",
              "      <td>2.000000</td>\n",
              "      <td>3.000000</td>\n",
              "      <td>1.000000</td>\n",
              "      <td>1.000000</td>\n",
              "      <td>2.000000</td>\n",
              "    </tr>\n",
              "    <tr>\n",
              "      <th>75%</th>\n",
              "      <td>6.000000</td>\n",
              "      <td>5.000000</td>\n",
              "      <td>5.000000</td>\n",
              "      <td>4.000000</td>\n",
              "      <td>4.000000</td>\n",
              "      <td>5.000000</td>\n",
              "      <td>4.000000</td>\n",
              "      <td>1.000000</td>\n",
              "      <td>4.000000</td>\n",
              "    </tr>\n",
              "    <tr>\n",
              "      <th>max</th>\n",
              "      <td>10.000000</td>\n",
              "      <td>10.000000</td>\n",
              "      <td>10.000000</td>\n",
              "      <td>10.000000</td>\n",
              "      <td>10.000000</td>\n",
              "      <td>10.000000</td>\n",
              "      <td>10.000000</td>\n",
              "      <td>10.000000</td>\n",
              "      <td>4.000000</td>\n",
              "    </tr>\n",
              "  </tbody>\n",
              "</table>\n",
              "</div>"
            ],
            "text/plain": [
              "       clump_thickness  un_cell_size  ...     mitoses       class\n",
              "count       699.000000    699.000000  ...  699.000000  699.000000\n",
              "mean          4.417740      3.134478  ...    1.589413    2.689557\n",
              "std           2.815741      3.051459  ...    1.715078    0.951273\n",
              "min           1.000000      1.000000  ...    1.000000    2.000000\n",
              "25%           2.000000      1.000000  ...    1.000000    2.000000\n",
              "50%           4.000000      1.000000  ...    1.000000    2.000000\n",
              "75%           6.000000      5.000000  ...    1.000000    4.000000\n",
              "max          10.000000     10.000000  ...   10.000000    4.000000\n",
              "\n",
              "[8 rows x 9 columns]"
            ]
          },
          "metadata": {
            "tags": []
          },
          "execution_count": 121
        }
      ]
    },
    {
      "cell_type": "markdown",
      "metadata": {
        "id": "ZWczP7_zIcyc"
      },
      "source": [
        "Upon inspection of data, you can see that some values of the **bare_nuclei** column are unknown. We drop the rows with these unknown values. We also convert the **bare_nuclei** column to numeric. This is required for training the model."
      ]
    },
    {
      "cell_type": "code",
      "metadata": {
        "id": "DlBQy_SwIZg2"
      },
      "source": [
        "df = df[df[\"bare_nuclei\"] != '?' ]\n",
        "df.bare_nuclei = pd.to_numeric(df.bare_nuclei)"
      ],
      "execution_count": 122,
      "outputs": []
    },
    {
      "cell_type": "markdown",
      "metadata": {
        "id": "3lmlkRf6O-9g"
      },
      "source": [
        "We check the class distribution of the data. You can see that there are two classes, 2.0 and 4.0\n",
        "According to the dataset:\n",
        "* **2.0 = benign**\n",
        "* **4.0 = malignant**\n"
      ]
    },
    {
      "cell_type": "code",
      "metadata": {
        "colab": {
          "base_uri": "https://localhost:8080/",
          "height": 281
        },
        "id": "UpuLzLunO8YU",
        "outputId": "97b8d6ac-a1bb-48e4-fea7-d295d58717bb"
      },
      "source": [
        "df['class'].hist(bins=20) "
      ],
      "execution_count": 123,
      "outputs": [
        {
          "output_type": "execute_result",
          "data": {
            "text/plain": [
              "<matplotlib.axes._subplots.AxesSubplot at 0x7f6c7b0acc90>"
            ]
          },
          "metadata": {
            "tags": []
          },
          "execution_count": 123
        },
        {
          "output_type": "display_data",
          "data": {
            "image/png": "[encoded data removed]",
            "text/plain": [
              "<Figure size 432x288 with 1 Axes>"
            ]
          },
          "metadata": {
            "tags": [],
            "needs_background": "light"
          }
        }
      ]
    },
    {
      "cell_type": "markdown",
      "metadata": {
        "id": "LjSMlWD4PKHo"
      },
      "source": [
        "We are going to model this problem as a binary classification problem which detects whether the tumor is malignant or not. Hence, we change the dataset so that:\n",
        "* **benign(2.0) = 0**\n",
        "* **malignant(4.0) = 1**"
      ]
    },
    {
      "cell_type": "code",
      "metadata": {
        "id": "nzNGFzZ9PGHo"
      },
      "source": [
        "df['class'] = np.where(df['class'] == 2, 0, 1)\n",
        "N = 6\n",
        "df = df.iloc[:-N , :]"
      ],
      "execution_count": 124,
      "outputs": []
    },
    {
      "cell_type": "markdown",
      "metadata": {
        "id": "uiXT-IhzPOob"
      },
      "source": [
        "We then split the dataset into training and testing sets. Since the number of samples is small, we will perform validation on the test set."
      ]
    },
    {
      "cell_type": "code",
      "metadata": {
        "id": "Z89YAbWJPMXg"
      },
      "source": [
        "train, test = train_test_split(df, test_size = 0.2)"
      ],
      "execution_count": 125,
      "outputs": []
    },
    {
      "cell_type": "markdown",
      "metadata": {
        "id": "Mo_0H0Q8PTkU"
      },
      "source": [
        "We get the statistics for training. We can look at statistics to get an idea about the distribution of plots. If you need more visualization, you can create additional data plots. We will also be using the mean and standard deviation from statistics for normalizing the data"
      ]
    },
    {
      "cell_type": "code",
      "metadata": {
        "id": "ZaRWqd7wPQZH"
      },
      "source": [
        "train_stats = train.describe()\n",
        "train_stats.pop('class')\n",
        "train_stats = train_stats.transpose()"
      ],
      "execution_count": 126,
      "outputs": []
    },
    {
      "cell_type": "code",
      "metadata": {
        "colab": {
          "base_uri": "https://localhost:8080/",
          "height": 325
        },
        "id": "HfjoNG6cPVU3",
        "outputId": "be3cd215-def4-43bc-baa3-8a669b823e72"
      },
      "source": [
        "train_stats"
      ],
      "execution_count": 127,
      "outputs": [
        {
          "output_type": "execute_result",
          "data": {
            "text/html": [
              "<div>\n",
              "<style scoped>\n",
              "    .dataframe tbody tr th:only-of-type {\n",
              "        vertical-align: middle;\n",
              "    }\n",
              "\n",
              "    .dataframe tbody tr th {\n",
              "        vertical-align: top;\n",
              "    }\n",
              "\n",
              "    .dataframe thead th {\n",
              "        text-align: right;\n",
              "    }\n",
              "</style>\n",
              "<table border=\"1\" class=\"dataframe\">\n",
              "  <thead>\n",
              "    <tr style=\"text-align: right;\">\n",
              "      <th></th>\n",
              "      <th>count</th>\n",
              "      <th>mean</th>\n",
              "      <th>std</th>\n",
              "      <th>min</th>\n",
              "      <th>25%</th>\n",
              "      <th>50%</th>\n",
              "      <th>75%</th>\n",
              "      <th>max</th>\n",
              "    </tr>\n",
              "  </thead>\n",
              "  <tbody>\n",
              "    <tr>\n",
              "      <th>clump_thickness</th>\n",
              "      <td>541.0</td>\n",
              "      <td>4.476895</td>\n",
              "      <td>2.859345</td>\n",
              "      <td>1.0</td>\n",
              "      <td>2.0</td>\n",
              "      <td>4.0</td>\n",
              "      <td>6.0</td>\n",
              "      <td>10.0</td>\n",
              "    </tr>\n",
              "    <tr>\n",
              "      <th>un_cell_size</th>\n",
              "      <td>541.0</td>\n",
              "      <td>3.164510</td>\n",
              "      <td>3.081113</td>\n",
              "      <td>1.0</td>\n",
              "      <td>1.0</td>\n",
              "      <td>1.0</td>\n",
              "      <td>4.0</td>\n",
              "      <td>10.0</td>\n",
              "    </tr>\n",
              "    <tr>\n",
              "      <th>un_cell_shape</th>\n",
              "      <td>541.0</td>\n",
              "      <td>3.242144</td>\n",
              "      <td>3.005944</td>\n",
              "      <td>1.0</td>\n",
              "      <td>1.0</td>\n",
              "      <td>2.0</td>\n",
              "      <td>5.0</td>\n",
              "      <td>10.0</td>\n",
              "    </tr>\n",
              "    <tr>\n",
              "      <th>marginal_adheshion</th>\n",
              "      <td>541.0</td>\n",
              "      <td>2.802218</td>\n",
              "      <td>2.838178</td>\n",
              "      <td>1.0</td>\n",
              "      <td>1.0</td>\n",
              "      <td>1.0</td>\n",
              "      <td>4.0</td>\n",
              "      <td>10.0</td>\n",
              "    </tr>\n",
              "    <tr>\n",
              "      <th>single_eph_cell_size</th>\n",
              "      <td>541.0</td>\n",
              "      <td>3.245841</td>\n",
              "      <td>2.263357</td>\n",
              "      <td>1.0</td>\n",
              "      <td>2.0</td>\n",
              "      <td>2.0</td>\n",
              "      <td>4.0</td>\n",
              "      <td>10.0</td>\n",
              "    </tr>\n",
              "    <tr>\n",
              "      <th>bare_nuclei</th>\n",
              "      <td>541.0</td>\n",
              "      <td>3.497227</td>\n",
              "      <td>3.628398</td>\n",
              "      <td>1.0</td>\n",
              "      <td>1.0</td>\n",
              "      <td>1.0</td>\n",
              "      <td>6.0</td>\n",
              "      <td>10.0</td>\n",
              "    </tr>\n",
              "    <tr>\n",
              "      <th>bland_chromatin</th>\n",
              "      <td>541.0</td>\n",
              "      <td>3.493530</td>\n",
              "      <td>2.493409</td>\n",
              "      <td>1.0</td>\n",
              "      <td>2.0</td>\n",
              "      <td>3.0</td>\n",
              "      <td>5.0</td>\n",
              "      <td>10.0</td>\n",
              "    </tr>\n",
              "    <tr>\n",
              "      <th>normal_nucleoli</th>\n",
              "      <td>541.0</td>\n",
              "      <td>2.920518</td>\n",
              "      <td>3.107810</td>\n",
              "      <td>1.0</td>\n",
              "      <td>1.0</td>\n",
              "      <td>1.0</td>\n",
              "      <td>4.0</td>\n",
              "      <td>10.0</td>\n",
              "    </tr>\n",
              "    <tr>\n",
              "      <th>mitoses</th>\n",
              "      <td>541.0</td>\n",
              "      <td>1.608133</td>\n",
              "      <td>1.752736</td>\n",
              "      <td>1.0</td>\n",
              "      <td>1.0</td>\n",
              "      <td>1.0</td>\n",
              "      <td>1.0</td>\n",
              "      <td>10.0</td>\n",
              "    </tr>\n",
              "  </tbody>\n",
              "</table>\n",
              "</div>"
            ],
            "text/plain": [
              "                      count      mean       std  min  25%  50%  75%   max\n",
              "clump_thickness       541.0  4.476895  2.859345  1.0  2.0  4.0  6.0  10.0\n",
              "un_cell_size          541.0  3.164510  3.081113  1.0  1.0  1.0  4.0  10.0\n",
              "un_cell_shape         541.0  3.242144  3.005944  1.0  1.0  2.0  5.0  10.0\n",
              "marginal_adheshion    541.0  2.802218  2.838178  1.0  1.0  1.0  4.0  10.0\n",
              "single_eph_cell_size  541.0  3.245841  2.263357  1.0  2.0  2.0  4.0  10.0\n",
              "bare_nuclei           541.0  3.497227  3.628398  1.0  1.0  1.0  6.0  10.0\n",
              "bland_chromatin       541.0  3.493530  2.493409  1.0  2.0  3.0  5.0  10.0\n",
              "normal_nucleoli       541.0  2.920518  3.107810  1.0  1.0  1.0  4.0  10.0\n",
              "mitoses               541.0  1.608133  1.752736  1.0  1.0  1.0  1.0  10.0"
            ]
          },
          "metadata": {
            "tags": []
          },
          "execution_count": 127
        }
      ]
    },
    {
      "cell_type": "markdown",
      "metadata": {
        "id": "s1Y14zDFPc7g"
      },
      "source": [
        "We pop the class column from the training and test sets to create train and test outputs."
      ]
    },
    {
      "cell_type": "code",
      "metadata": {
        "id": "X7SgLMPUPY5Y"
      },
      "source": [
        "train_Y = train.pop(\"class\")\n",
        "test_Y = test.pop(\"class\")"
      ],
      "execution_count": 128,
      "outputs": []
    },
    {
      "cell_type": "markdown",
      "metadata": {
        "id": "kGIRRnP7PiVT"
      },
      "source": [
        "Here we normalize the data by using the formula: **X = (X - mean(X)) / StandardDeviation(X)**"
      ]
    },
    {
      "cell_type": "code",
      "metadata": {
        "id": "-cwEl8sTPgmf"
      },
      "source": [
        "def norm(x):\n",
        "    return (x - train_stats['mean']) / train_stats['std']"
      ],
      "execution_count": 129,
      "outputs": []
    },
    {
      "cell_type": "code",
      "metadata": {
        "id": "4kFiDOgZPjva"
      },
      "source": [
        "norm_train_X = norm(train)\n",
        "norm_test_X = norm(test)"
      ],
      "execution_count": 130,
      "outputs": []
    },
    {
      "cell_type": "markdown",
      "metadata": {
        "id": "ewM3BmS5Pspq"
      },
      "source": [
        "We now create Tensorflow datasets for training and test sets to easily be able to build and manage an input pipeline for our model."
      ]
    },
    {
      "cell_type": "code",
      "metadata": {
        "id": "I3IMuPFAPqjQ"
      },
      "source": [
        "train_dataset = tf.data.Dataset.from_tensor_slices((norm_train_X.values, train_Y.values))\n",
        "test_dataset = tf.data.Dataset.from_tensor_slices((norm_test_X.values, test_Y.values))"
      ],
      "execution_count": 131,
      "outputs": []
    },
    {
      "cell_type": "markdown",
      "metadata": {
        "id": "qOiy_JRJP4K4"
      },
      "source": [
        "We shuffle and prepare a batched dataset to be used for training in our custom training loop."
      ]
    },
    {
      "cell_type": "code",
      "metadata": {
        "id": "axqgzoAbPv73"
      },
      "source": [
        "\n",
        "batch_size = 30\n",
        "train_dataset = train_dataset.shuffle(buffer_size=len(train)).batch(batch_size)\n",
        "\n",
        "test_dataset =  test_dataset.batch(batch_size=batch_size)"
      ],
      "execution_count": 132,
      "outputs": []
    },
    {
      "cell_type": "markdown",
      "metadata": {
        "id": "Vy7ZxNUkQYLr"
      },
      "source": [
        "## Define the Model\n",
        "\n",
        "Now we will define the model. Here, we use the Keras Functional API to create a simple network of two `Dense` layers. We have modelled the problem as a binary classification problem and hence we add a single layer with sigmoid activation as the final layer of the model."
      ]
    },
    {
      "cell_type": "code",
      "metadata": {
        "id": "Q3U_gl8HQFcn"
      },
      "source": [
        "def base_model():\n",
        "    inputs = tf.keras.layers.Input(shape=(len(train.columns)))\n",
        "\n",
        "    x = tf.keras.layers.Dense(128, activation='relu')(inputs)\n",
        "    x = tf.keras.layers.Dense(64, activation='relu')(x)\n",
        "    outputs = tf.keras.layers.Dense(1, activation='sigmoid')(x)\n",
        "    model = tf.keras.Model(inputs=inputs, outputs=outputs)\n",
        "    return model\n",
        "\n",
        "model = base_model()"
      ],
      "execution_count": 133,
      "outputs": []
    },
    {
      "cell_type": "markdown",
      "metadata": {
        "id": "6rzouBwmQdrq"
      },
      "source": [
        "## Define Optimizer and Loss\n",
        "\n",
        "We use RMSprop optimizer and binary crossentropy as our loss function."
      ]
    },
    {
      "cell_type": "code",
      "metadata": {
        "id": "fCpn5-eTQawJ"
      },
      "source": [
        "optimizer = tf.keras.optimizers.RMSprop(learning_rate=0.001)\n",
        "loss_object = tf.keras.losses.BinaryCrossentropy()"
      ],
      "execution_count": 134,
      "outputs": []
    },
    {
      "cell_type": "markdown",
      "metadata": {
        "id": "NFD8CAPTQhCi"
      },
      "source": [
        "## Evaluate Untrained Model\n",
        "We calculate the loss on the model before training begins."
      ]
    },
    {
      "cell_type": "code",
      "metadata": {
        "colab": {
          "base_uri": "https://localhost:8080/"
        },
        "id": "SmNZcy6qQffv",
        "outputId": "86fe4208-14b0-4bcc-87d1-15101fceb222"
      },
      "source": [
        "outputs = model(norm_test_X.values)\n",
        "loss_value = loss_object(y_true=test_Y.values.reshape([len(test_Y),-1]), y_pred=outputs)\n",
        "print(\"Loss before training %.4f\" % loss_value.numpy())"
      ],
      "execution_count": 135,
      "outputs": [
        {
          "output_type": "stream",
          "text": [
            "Loss before training 0.9388\n"
          ],
          "name": "stdout"
        }
      ]
    },
    {
      "cell_type": "markdown",
      "metadata": {
        "id": "CiU0KguiSrej"
      },
      "source": [
        "We also plot the confusion matrix to visualize the true outputs against the outputs predicted by the model."
      ]
    },
    {
      "cell_type": "code",
      "metadata": {
        "id": "vcXxDaMaRF1w"
      },
      "source": [
        "def plot_confusion_matrix(y_true, y_pred, title='', labels=[0,1]):\n",
        "    cm = confusion_matrix(y_true, y_pred)\n",
        "    fig = plt.figure()\n",
        "    ax = fig.add_subplot(111)\n",
        "    cax = ax.matshow(cm)\n",
        "    plt.title(title)\n",
        "    fig.colorbar(cax)\n",
        "    ax.set_xticklabels([''] + labels)\n",
        "    ax.set_yticklabels([''] + labels)\n",
        "    plt.xlabel('Predicted')\n",
        "    plt.ylabel('True')\n",
        "    fmt = 'd'\n",
        "    thresh = cm.max() / 2.\n",
        "    for i, j in itertools.product(range(cm.shape[0]), range(cm.shape[1])):\n",
        "          plt.text(j, i, format(cm[i, j], fmt),\n",
        "                  horizontalalignment=\"center\",\n",
        "                  color=\"black\" if cm[i, j] > thresh else \"white\")\n",
        "    plt.show()"
      ],
      "execution_count": 136,
      "outputs": []
    },
    {
      "cell_type": "code",
      "metadata": {
        "colab": {
          "base_uri": "https://localhost:8080/",
          "height": 289
        },
        "id": "lYHfBf71Ssyd",
        "outputId": "82daa782-1eae-47a3-ea45-430b20fb3bc3"
      },
      "source": [
        "plot_confusion_matrix(test_Y.values, tf.round(outputs), title='Confusion Matrix for Untrained Model')"
      ],
      "execution_count": 137,
      "outputs": [
        {
          "output_type": "display_data",
          "data": {
            "image/png": "[encoded data removed]",
            "text/plain": [
              "<Figure size 432x288 with 2 Axes>"
            ]
          },
          "metadata": {
            "tags": [],
            "needs_background": "light"
          }
        }
      ]
    },
    {
      "cell_type": "markdown",
      "metadata": {
        "id": "mBhTMVLWS0gw"
      },
      "source": [
        "## Define Metrics (Please complete this section)"
      ]
    },
    {
      "cell_type": "markdown",
      "metadata": {
        "id": "cOdXiq-IS2f1"
      },
      "source": [
        "### Define Custom F1Score Metric\n",
        "In this example, we will define a custom F1Score metric using the formula. \n",
        "\n",
        "**F1 Score = 2 * ((precision * recall) / (precision + recall))**\n",
        "\n",
        "**precision = true_positives / (true_positives + false_positives)**\n",
        "\n",
        "**recall = true_positives / (true_positives + false_negatives)**\n",
        "\n",
        "We use `confusion_matrix` defined in `tf.math` to calculate precision and recall.\n",
        "\n",
        "Here you can see that we have subclassed `tf.keras.Metric` and implemented the three required methods `update_state`, `result` and `reset_states`.\n"
      ]
    },
    {
      "cell_type": "code",
      "metadata": {
        "id": "vJet7CNdSupX"
      },
      "source": [
        "class F1Score(tf.keras.metrics.Metric):\n",
        "\n",
        "    def __init__(self, name='f1_score', **kwargs):\n",
        "        '''initializes attributes of the class'''\n",
        "        \n",
        "        # call the parent class init\n",
        "        super(F1Score, self).__init__(name=name, **kwargs)\n",
        "\n",
        "        # Initialize Required variables\n",
        "        # true positives\n",
        "        self.tp = tf.Variable(0, dtype = 'int32')\n",
        "        # false positives\n",
        "        self.fp = tf.Variable(0, dtype = 'int32')\n",
        "        # true negatives\n",
        "        self.tn = tf.Variable(0, dtype = 'int32')\n",
        "        # false negatives\n",
        "        self.fn = tf.Variable(0, dtype = 'int32')\n",
        "\n",
        "    def update_state(self, y_true, y_pred, sample_weight=None):\n",
        "        '''\n",
        "        Accumulates statistics for the metric\n",
        "        \n",
        "        Args:\n",
        "            y_true: target values from the test data\n",
        "            y_pred: predicted values by the model\n",
        "        '''\n",
        "\n",
        "        # Calulcate confusion matrix.\n",
        "        conf_matrix = tf.math.confusion_matrix(y_true, y_pred, num_classes=2)\n",
        "        \n",
        "        # Update values of true positives, true negatives, false positives and false negatives from confusion matrix.\n",
        "        self.tn.assign_add(conf_matrix[0][0])\n",
        "        self.tp.assign_add(conf_matrix[1][1])\n",
        "        self.fp.assign_add(conf_matrix[0][1])\n",
        "        self.fn.assign_add(conf_matrix[1][0])\n",
        "\n",
        "    def result(self):\n",
        "        '''Computes and returns the metric value tensor.'''\n",
        "\n",
        "        # Calculate precision\n",
        "        if (self.tp + self.fp == 0):\n",
        "            precision = 1.0\n",
        "        else:\n",
        "            precision = self.tp / (self.tp + self.fp)\n",
        "      \n",
        "        # Calculate recall\n",
        "        if (self.tp + self.fn == 0):\n",
        "            recall = 1.0\n",
        "        else:\n",
        "            recall = self.tp / (self.tp + self.fn)\n",
        "\n",
        "        # Return F1 Score\n",
        "        \n",
        "        f1_score = 2 * ((precision * recall) / (precision + recall))\n",
        "        ### END CODE HERE ###\n",
        "        \n",
        "        return f1_score\n",
        "\n",
        "    def reset_states(self):\n",
        "        '''Resets all of the metric state variables.'''\n",
        "        \n",
        "        # The state of the metric will be reset at the start of each epoch.\n",
        "        self.tp.assign(0)\n",
        "        self.tn.assign(0) \n",
        "        self.fp.assign(0)\n",
        "        self.fn.assign(0)\n"
      ],
      "execution_count": 138,
      "outputs": []
    },
    {
      "cell_type": "code",
      "metadata": {
        "colab": {
          "base_uri": "https://localhost:8080/"
        },
        "id": "5k6CsozHTalj",
        "outputId": "6a04d209-a854-47f0-9373-90c153c18b22"
      },
      "source": [
        "# Test Code:\n",
        "\n",
        "test_F1Score = F1Score()\n",
        "\n",
        "test_F1Score.tp = tf.Variable(2, dtype = 'int32')\n",
        "test_F1Score.fp = tf.Variable(5, dtype = 'int32')\n",
        "test_F1Score.tn = tf.Variable(7, dtype = 'int32')\n",
        "test_F1Score.fn = tf.Variable(9, dtype = 'int32')\n",
        "test_F1Score.result()\n"
      ],
      "execution_count": 139,
      "outputs": [
        {
          "output_type": "execute_result",
          "data": {
            "text/plain": [
              "<tf.Tensor: shape=(), dtype=float64, numpy=0.2222222222222222>"
            ]
          },
          "metadata": {
            "tags": []
          },
          "execution_count": 139
        }
      ]
    },
    {
      "cell_type": "code",
      "metadata": {
        "id": "BHINIIoKTqqH"
      },
      "source": [
        "train_f1score_metric = F1Score()\n",
        "val_f1score_metric = F1Score()\n",
        "\n",
        "train_acc_metric = tf.keras.metrics.BinaryAccuracy()\n",
        "val_acc_metric = tf.keras.metrics.BinaryAccuracy()"
      ],
      "execution_count": 140,
      "outputs": []
    },
    {
      "cell_type": "markdown",
      "metadata": {
        "id": "SQ6xbQclUjhC"
      },
      "source": [
        "## Apply Gradients\n",
        "\n",
        "The core of training is using the model to calculate the logits on specific set of inputs and compute the loss(in this case **binary crossentropy**) by comparing the predicted outputs to the true outputs. We then update the trainable weights using the optimizer algorithm chosen. The optimizer algorithm requires our computed loss and partial derivatives of loss with respect to each of the trainable weights to make updates to the same.\n",
        "\n",
        "We use gradient tape to calculate the gradients and then update the model trainable weights using the optimizer.\n"
      ]
    },
    {
      "cell_type": "code",
      "metadata": {
        "id": "cIlt5PHVUev3"
      },
      "source": [
        "def apply_gradient(optimizer, loss_object, model, x, y):\n",
        "    '''\n",
        "    applies the gradients to the trainable model weights\n",
        "    \n",
        "    Args:\n",
        "        optimizer: optimizer to update model weights\n",
        "        loss_object: type of loss to measure during training\n",
        "        model: the model we are training\n",
        "        x: input data to the model\n",
        "        y: target values for each input\n",
        "    '''\n",
        "    \n",
        "    with tf.GradientTape() as tape:\n",
        "        logits = model(x)\n",
        "        loss_value = loss_object(y_true=y, y_pred=logits)\n",
        "  \n",
        "    gradients = tape.gradient(loss_value, model.trainable_weights)\n",
        "    optimizer.apply_gradients(zip(gradients, model.trainable_weights))    \n",
        "  \n",
        "    return logits, loss_value\n",
        "    "
      ],
      "execution_count": 165,
      "outputs": []
    },
    {
      "cell_type": "markdown",
      "metadata": {
        "id": "WPSBRWNhWb0k"
      },
      "source": [
        "This function performs training during one epoch. You run through all batches of training data in each epoch to make updates to trainable weights using your previous function. You can see that we also call update_state on your metrics to accumulate the value of your metrics.\n",
        "You are displaying a progress bar to indicate completion of training in each epoch. Here you use tqdm for displaying the progress bar."
      ]
    },
    {
      "cell_type": "code",
      "metadata": {
        "id": "qve_t595Un5f"
      },
      "source": [
        "def train_data_for_one_epoch(train_dataset, optimizer, loss_object, model, \n",
        "                             train_acc_metric, train_f1score_metric, verbose=True):\n",
        "    '''\n",
        "    Computes the loss then updates the weights and metrics for one epoch.\n",
        "    \n",
        "    Args:\n",
        "        train_dataset: the training dataset\n",
        "        optimizer: optimizer to update model weights\n",
        "        loss_object: type of loss to measure during training\n",
        "        model: the model we are training\n",
        "        train_acc_metric: calculates how often predictions match labels\n",
        "        train_f1score_metric: custom metric we defined earlier\n",
        "    '''\n",
        "    losses = []\n",
        "\n",
        "    #Iterate through all batches of training data\n",
        "    for step, (x_batch_train, y_batch_train) in enumerate(train_dataset):\n",
        "\n",
        "        #Calculate loss and update trainable variables using optimizer\n",
        "        logits, loss_value = apply_gradient(optimizer, loss_object, model, x_batch_train, y_batch_train)\n",
        "        losses.append(loss_value)\n",
        "\n",
        "        #Round off logits to nearest integer and cast to integer for calulating metrics\n",
        "        logits = tf.round(logits)\n",
        "        logits = tf.cast(logits, 'int64')\n",
        "\n",
        "        #Update the training metrics\n",
        "        train_acc_metric.update_state(y_batch_train, logits)\n",
        "        train_f1score_metric.update_state(y_batch_train, logits)\n",
        "\n",
        "        #Update progress\n",
        "        if verbose:\n",
        "            print(\"Training loss for step %s: %.4f\" % (int(step), float(loss_value)))\n",
        "    \n",
        "    return losses\n"
      ],
      "execution_count": 167,
      "outputs": []
    },
    {
      "cell_type": "markdown",
      "metadata": {
        "id": "cqC6aryBWn6c"
      },
      "source": [
        "At the end of each epoch you have to validate the model on the test dataset. The following function calculates the loss on test dataset and updates the states of the validation metrics."
      ]
    },
    {
      "cell_type": "code",
      "metadata": {
        "id": "TRPB2SVCWeDk"
      },
      "source": [
        "def perform_validation():\n",
        "    losses = []\n",
        "\n",
        "    #Iterate through all batches of validation data.\n",
        "    for x_val, y_val in test_dataset:\n",
        "\n",
        "        #Calculate validation loss for current batch.\n",
        "        val_logits = model(x_val) \n",
        "        val_loss = loss_object(y_true=y_val, y_pred=val_logits)\n",
        "        losses.append(val_loss)\n",
        "\n",
        "        #Round off and cast outputs to either  or 1\n",
        "        val_logits = tf.cast(tf.round(model(x_val)), 'int64')\n",
        "\n",
        "        #Update validation metrics\n",
        "        val_acc_metric.update_state(y_val, val_logits)\n",
        "        val_f1score_metric.update_state(y_val, val_logits)\n",
        "        \n",
        "    return losses"
      ],
      "execution_count": 143,
      "outputs": []
    },
    {
      "cell_type": "markdown",
      "metadata": {
        "id": "3g4pWIDtWxVz"
      },
      "source": [
        "Next you define the training loop that runs through the training samples repeatedly over a fixed number of epochs. Here you combine the functions you built earlier to establish the following flow:\n",
        "1. Perform training over all batches of training data.\n",
        "2. Get values of metrics.\n",
        "3. Perform validation to calculate loss and update validation metrics on test data.\n",
        "4. Reset the metrics at the end of epoch.\n",
        "5. Display statistics at the end of each epoch.\n",
        "\n",
        "**Note** : You also calculate the training and validation losses for the whole epoch at the end of the epoch."
      ]
    },
    {
      "cell_type": "code",
      "metadata": {
        "colab": {
          "base_uri": "https://localhost:8080/"
        },
        "id": "qGwROt1DWphh",
        "outputId": "59086a29-ed35-4cee-d253-46a64a3fd3da"
      },
      "source": [
        "# Iterate over epochs.\n",
        "epochs = 5\n",
        "epochs_val_losses, epochs_train_losses = [], []\n",
        "\n",
        "for epoch in range(epochs):\n",
        "    print('Start of epoch %d' % (epoch,))\n",
        "    #Perform Training over all batches of train data\n",
        "    losses_train = train_data_for_one_epoch(train_dataset, optimizer, loss_object, model, train_acc_metric, train_f1score_metric)\n",
        "\n",
        "    # Get results from training metrics\n",
        "    train_acc = train_acc_metric.result()\n",
        "    train_f1score = train_f1score_metric.result()\n",
        "\n",
        "    #Perform validation on all batches of test data\n",
        "    losses_val = perform_validation()\n",
        "\n",
        "    # Get results from validation metrics\n",
        "    val_acc = val_acc_metric.result()\n",
        "    val_f1score = val_f1score_metric.result()\n",
        "\n",
        "    #Calculate training and validation losses for current epoch\n",
        "    losses_train_mean = np.mean(losses_train)\n",
        "    losses_val_mean = np.mean(losses_val)\n",
        "    epochs_val_losses.append(losses_val_mean)\n",
        "    epochs_train_losses.append(losses_train_mean)\n",
        "\n",
        "    print('\\n Epcoh %s: Train loss: %.4f  Validation Loss: %.4f, Train Accuracy: %.4f, Validation Accuracy %.4f, Train F1 Score: %.4f, Validation F1 Score: %.4f' % (epoch, float(losses_train_mean), float(losses_val_mean), float(train_acc), float(val_acc), train_f1score, val_f1score))\n",
        "\n",
        "    #Reset states of all metrics\n",
        "    train_acc_metric.reset_states()\n",
        "    val_acc_metric.reset_states()\n",
        "    val_f1score_metric.reset_states()\n",
        "    train_f1score_metric.reset_states()"
      ],
      "execution_count": 168,
      "outputs": [
        {
          "output_type": "stream",
          "text": [
            "Start of epoch 0\n",
            "Training loss for step 0: 0.0241\n",
            "Training loss for step 1: 0.1632\n",
            "Training loss for step 2: 0.0561\n",
            "Training loss for step 3: 0.0277\n",
            "Training loss for step 4: 0.0171\n",
            "Training loss for step 5: 0.0446\n",
            "Training loss for step 6: 0.0729\n",
            "Training loss for step 7: 0.0716\n",
            "Training loss for step 8: 0.0195\n",
            "Training loss for step 9: 0.3004\n",
            "Training loss for step 10: 0.0921\n",
            "Training loss for step 11: 0.0529\n",
            "Training loss for step 12: 0.0287\n",
            "Training loss for step 13: 0.0376\n",
            "Training loss for step 14: 0.0361\n",
            "Training loss for step 15: 0.2601\n",
            "Training loss for step 16: 0.0499\n",
            "Training loss for step 17: 0.0962\n",
            "Training loss for step 18: 0.0845\n",
            "\n",
            " Epcoh 0: Train loss: 0.0808  Validation Loss: 0.0476, Train Accuracy: 0.9496, Validation Accuracy 0.9800, Train F1 Score: 0.9223, Validation F1 Score: 0.9684\n",
            "Start of epoch 1\n",
            "Training loss for step 0: 0.0431\n",
            "Training loss for step 1: 0.2350\n",
            "Training loss for step 2: 0.1818\n",
            "Training loss for step 3: 0.1331\n",
            "Training loss for step 4: 0.0597\n",
            "Training loss for step 5: 0.0448\n",
            "Training loss for step 6: 0.1552\n",
            "Training loss for step 7: 0.0527\n",
            "Training loss for step 8: 0.0312\n",
            "Training loss for step 9: 0.0474\n",
            "Training loss for step 10: 0.1005\n",
            "Training loss for step 11: 0.0062\n",
            "Training loss for step 12: 0.1453\n",
            "Training loss for step 13: 0.0246\n",
            "Training loss for step 14: 0.0075\n",
            "Training loss for step 15: 0.0209\n",
            "Training loss for step 16: 0.0124\n",
            "Training loss for step 17: 0.0486\n",
            "Training loss for step 18: 0.0038\n",
            "\n",
            " Epcoh 1: Train loss: 0.0713  Validation Loss: 0.0457, Train Accuracy: 0.9719, Validation Accuracy 0.9800, Train F1 Score: 0.9581, Validation F1 Score: 0.9684\n",
            "Start of epoch 2\n",
            "Training loss for step 0: 0.0950\n",
            "Training loss for step 1: 0.1016\n",
            "Training loss for step 2: 0.0450\n",
            "Training loss for step 3: 0.0161\n",
            "Training loss for step 4: 0.0591\n",
            "Training loss for step 5: 0.1882\n",
            "Training loss for step 6: 0.1327\n",
            "Training loss for step 7: 0.0266\n",
            "Training loss for step 8: 0.0127\n",
            "Training loss for step 9: 0.0126\n",
            "Training loss for step 10: 0.1233\n",
            "Training loss for step 11: 0.0774\n",
            "Training loss for step 12: 0.0121\n",
            "Training loss for step 13: 0.0733\n",
            "Training loss for step 14: 0.0255\n",
            "Training loss for step 15: 0.2036\n",
            "Training loss for step 16: 0.0381\n",
            "Training loss for step 17: 0.0468\n",
            "Training loss for step 18: 0.0008\n",
            "\n",
            " Epcoh 2: Train loss: 0.0679  Validation Loss: 0.0437, Train Accuracy: 0.9754, Validation Accuracy 0.9867, Train F1 Score: 0.9634, Validation F1 Score: 0.9792\n",
            "Start of epoch 3\n",
            "Training loss for step 0: 0.1318\n",
            "Training loss for step 1: 0.0130\n",
            "Training loss for step 2: 0.0147\n",
            "Training loss for step 3: 0.0336\n",
            "Training loss for step 4: 0.1693\n",
            "Training loss for step 5: 0.0394\n",
            "Training loss for step 6: 0.1203\n",
            "Training loss for step 7: 0.0573\n",
            "Training loss for step 8: 0.1178\n",
            "Training loss for step 9: 0.0671\n",
            "Training loss for step 10: 0.0068\n",
            "Training loss for step 11: 0.1233\n",
            "Training loss for step 12: 0.0187\n",
            "Training loss for step 13: 0.0813\n",
            "Training loss for step 14: 0.0259\n",
            "Training loss for step 15: 0.1185\n",
            "Training loss for step 16: 0.0684\n",
            "Training loss for step 17: 0.0171\n",
            "Training loss for step 18: 0.0013\n",
            "\n",
            " Epcoh 3: Train loss: 0.0645  Validation Loss: 0.0427, Train Accuracy: 0.9702, Validation Accuracy 0.9867, Train F1 Score: 0.9556, Validation F1 Score: 0.9792\n",
            "Start of epoch 4\n",
            "Training loss for step 0: 0.0377\n",
            "Training loss for step 1: 0.0076\n",
            "Training loss for step 2: 0.0172\n",
            "Training loss for step 3: 0.1407\n",
            "Training loss for step 4: 0.1082\n",
            "Training loss for step 5: 0.0202\n",
            "Training loss for step 6: 0.0245\n",
            "Training loss for step 7: 0.1626\n",
            "Training loss for step 8: 0.0045\n",
            "Training loss for step 9: 0.1292\n",
            "Training loss for step 10: 0.0089\n",
            "Training loss for step 11: 0.0345\n",
            "Training loss for step 12: 0.0512\n",
            "Training loss for step 13: 0.0484\n",
            "Training loss for step 14: 0.1261\n",
            "Training loss for step 15: 0.1061\n",
            "Training loss for step 16: 0.0071\n",
            "Training loss for step 17: 0.1534\n",
            "Training loss for step 18: 0.0001\n",
            "\n",
            " Epcoh 4: Train loss: 0.0625  Validation Loss: 0.0425, Train Accuracy: 0.9754, Validation Accuracy 0.9867, Train F1 Score: 0.9634, Validation F1 Score: 0.9792\n"
          ],
          "name": "stdout"
        }
      ]
    },
    {
      "cell_type": "markdown",
      "metadata": {
        "id": "Inhaf4MbZvKZ"
      },
      "source": [
        "## Evaluate the Model"
      ]
    },
    {
      "cell_type": "code",
      "metadata": {
        "colab": {
          "base_uri": "https://localhost:8080/",
          "height": 281
        },
        "id": "Iee9umOlWz6x",
        "outputId": "ae9e9912-3998-411b-9665-230c9c05156f"
      },
      "source": [
        "def plot_metrics(train_metric, val_metric, metric_name, title, ylim=5):\n",
        "    plt.title(title)\n",
        "    plt.ylim(0,ylim)\n",
        "    plt.gca().xaxis.set_major_locator(mticker.MultipleLocator(1))\n",
        "    plt.plot(train_metric,color='blue',label=metric_name)\n",
        "    plt.plot(val_metric,color='green',label='val_' + metric_name)\n",
        "\n",
        "plot_metrics(epochs_train_losses, epochs_val_losses, \"Loss\", \"Loss\", ylim=1.0)"
      ],
      "execution_count": 169,
      "outputs": [
        {
          "output_type": "display_data",
          "data": {
            "image/png": "[encoded data removed]",
            "text/plain": [
              "<Figure size 432x288 with 1 Axes>"
            ]
          },
          "metadata": {
            "tags": [],
            "needs_background": "light"
          }
        }
      ]
    },
    {
      "cell_type": "markdown",
      "metadata": {
        "id": "3-15W8bSZz18"
      },
      "source": [
        "We plot the confusion matrix to visualize the true values against the values predicted by the model."
      ]
    },
    {
      "cell_type": "code",
      "metadata": {
        "colab": {
          "base_uri": "https://localhost:8080/",
          "height": 289
        },
        "id": "CzU2TXsGYj7G",
        "outputId": "2f1816eb-48eb-4f95-c157-f7f26fc3f0d3"
      },
      "source": [
        "test_outputs = model(norm_test_X.values)\n",
        "plot_confusion_matrix(test_Y.values, tf.round(test_outputs), title='Confusion Matrix for Untrained Model')"
      ],
      "execution_count": 170,
      "outputs": [
        {
          "output_type": "display_data",
          "data": {
            "image/png": "[encoded data removed]",
            "text/plain": [
              "<Figure size 432x288 with 2 Axes>"
            ]
          },
          "metadata": {
            "tags": [],
            "needs_background": "light"
          }
        }
      ]
    },
    {
      "cell_type": "code",
      "metadata": {
        "id": "PC_StrxCZ2Pn"
      },
      "source": [
        ""
      ],
      "execution_count": null,
      "outputs": []
    }
  ]
}