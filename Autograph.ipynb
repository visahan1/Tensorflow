{
  "nbformat": 4,
  "nbformat_minor": 0,
  "metadata": {
    "colab": {
      "name": "Untitled6.ipynb",
      "provenance": [],
      "authorship_tag": "ABX9TyNc5iOXcEJKir19tn20MB2i",
      "include_colab_link": true
    },
    "kernelspec": {
      "name": "python3",
      "display_name": "Python 3"
    },
    "language_info": {
      "name": "python"
    },
    "accelerator": "GPU"
  },
  "cells": [
    {
      "cell_type": "markdown",
      "metadata": {
        "id": "view-in-github",
        "colab_type": "text"
      },
      "source": [
        "<a href=\"https://colab.research.google.com/github/visahan1/Tensorflow/blob/main/Autograph.ipynb\" target=\"_parent\"><img src=\"https://colab.research.google.com/assets/colab-badge.svg\" alt=\"Open In Colab\"/></a>"
      ]
    },
    {
      "cell_type": "markdown",
      "metadata": {
        "id": "H82kYVM6fy1w"
      },
      "source": [
        "# Horse or Human? In-graph training loop\n",
        "\n",
        "This  lets you practice how to train a Keras model on the [horses_or_humans](https://www.tensorflow.org/datasets/catalog/horses_or_humans) dataset with the entire training process performed in graph mode.  These steps include:\n",
        "- loading batches\n",
        "- calculating gradients\n",
        "- updating parameters\n",
        "- calculating validation accuracy\n",
        "- repeating the loop until convergence"
      ]
    },
    {
      "cell_type": "code",
      "metadata": {
        "id": "pAVNlZpEfxU0"
      },
      "source": [
        "import tensorflow as tf\n",
        "import tensorflow_datasets as tfds\n",
        "import tensorflow_hub as hub\n",
        "import matplotlib.pyplot as plt\n",
        "import numpy as np"
      ],
      "execution_count": 4,
      "outputs": []
    },
    {
      "cell_type": "code",
      "metadata": {
        "id": "LZCiShbrgAwM"
      },
      "source": [
        "splits, info = tfds.load('horses_or_humans', as_supervised=True, with_info=True, split=['train[:80%]', 'train[80%:]', 'test'], data_dir='./data')\n",
        "\n",
        "(train_examples, validation_examples, test_examples) = splits\n",
        "\n",
        "num_examples = info.splits['train'].num_examples\n",
        "num_classes = info.features['label'].num_classes"
      ],
      "execution_count": 5,
      "outputs": []
    },
    {
      "cell_type": "code",
      "metadata": {
        "id": "lp66rATIgCGj"
      },
      "source": [
        "BATCH_SIZE = 32\n",
        "IMAGE_SIZE = 224"
      ],
      "execution_count": 6,
      "outputs": []
    },
    {
      "cell_type": "markdown",
      "metadata": {
        "id": "I-m68yp8gTXA"
      },
      "source": [
        "## Pre-process an image \n",
        "You'll define a mapping function that resizes the image to a height of 224 by 224, and normalizes the pixels to the range of 0 to 1.  Note that pixels range from 0 to 255.\n",
        "\n",
        "- You'll use the following function: [tf.image.resize](https://www.tensorflow.org/api_docs/python/tf/image/resize) and pass in the (height,width) as a tuple (or list).\n",
        "- To normalize, divide by a floating value so that the pixel range changes from [0,255] to [0,1]."
      ]
    },
    {
      "cell_type": "code",
      "metadata": {
        "id": "CiuA1mCGgQmK"
      },
      "source": [
        "# Create a autograph pre-processing function to resize and normalize an image\n",
        "@tf.function\n",
        "def map_fn(img, label):\n",
        "    image_height = 224\n",
        "    image_width = 224\n",
        "    SIZE = image_height , image_width\n",
        "    # resize the image\n",
        "    img = tf.image.resize(img,SIZE)\n",
        "    # normalize the image\n",
        "    img /= 255\n",
        "    return img, label"
      ],
      "execution_count": 7,
      "outputs": []
    },
    {
      "cell_type": "code",
      "metadata": {
        "colab": {
          "base_uri": "https://localhost:8080/"
        },
        "id": "s948W1h4gu6q",
        "outputId": "5d3bf47a-430b-4f8f-9acf-87c81bab4077"
      },
      "source": [
        "## TEST CODE:\n",
        "\n",
        "test_image, test_label = list(train_examples)[0]\n",
        "\n",
        "test_result = map_fn(test_image, test_label)\n",
        "\n",
        "print(test_result[0].shape)\n",
        "print(test_result[1].shape)\n",
        "\n",
        "del test_image, test_label, test_result"
      ],
      "execution_count": 8,
      "outputs": [
        {
          "output_type": "stream",
          "text": [
            "(224, 224, 3)\n",
            "()\n"
          ],
          "name": "stdout"
        }
      ]
    },
    {
      "cell_type": "markdown",
      "metadata": {
        "id": "8lOD0PcihSif"
      },
      "source": [
        "## Apply pre-processing to the datasets \n",
        "Apply the following steps to the training_examples:\n",
        "- Apply the `map_fn` to the training_examples\n",
        "- Shuffle the training data using `.shuffle(buffer_size=)` and set the buffer size to the number of examples.\n",
        "- Group these into batches using `.batch()` and set the batch size given by the parameter.\n"
      ]
    },
    {
      "cell_type": "code",
      "metadata": {
        "id": "DaRzmgNkgw06"
      },
      "source": [
        "# Prepare train dataset by using preprocessing with map_fn, shuffling and batching\n",
        "def prepare_dataset(train_examples, validation_examples, test_examples, num_examples, map_fn, batch_size):\n",
        "    train_ds = train_examples.map(map_fn).shuffle(buffer_size=1024).batch(BATCH_SIZE)\n",
        "    valid_ds = validation_examples.map(map_fn).batch(batch_size)\n",
        "    test_ds = test_examples.map(map_fn).batch(batch_size)\n",
        "    \n",
        "    return train_ds, valid_ds, test_ds"
      ],
      "execution_count": 9,
      "outputs": []
    },
    {
      "cell_type": "code",
      "metadata": {
        "id": "LZPbzClqhpDe"
      },
      "source": [
        "train_ds, valid_ds, test_ds = prepare_dataset(train_examples, validation_examples, test_examples, num_examples, map_fn, BATCH_SIZE)"
      ],
      "execution_count": 10,
      "outputs": []
    },
    {
      "cell_type": "code",
      "metadata": {
        "colab": {
          "base_uri": "https://localhost:8080/"
        },
        "id": "OaK_KfWPhrHi",
        "outputId": "10ef6278-21f2-4721-d3f8-7bdadf209d04"
      },
      "source": [
        "## TEST CODE:\n",
        "\n",
        "test_train_ds = list(train_ds)\n",
        "print(len(test_train_ds))\n",
        "print(test_train_ds[0][0].shape)\n",
        "\n",
        "del test_train_ds"
      ],
      "execution_count": 11,
      "outputs": [
        {
          "output_type": "stream",
          "text": [
            "26\n",
            "(32, 224, 224, 3)\n"
          ],
          "name": "stdout"
        }
      ]
    },
    {
      "cell_type": "code",
      "metadata": {
        "colab": {
          "base_uri": "https://localhost:8080/"
        },
        "id": "cPTTqjFPhsnC",
        "outputId": "45b97da6-1933-47e1-8114-1a95e77979ca"
      },
      "source": [
        "MODULE_HANDLE = 'https://tfhub.dev/google/imagenet/resnet_v2_50/feature_vector/5'\n",
        "model = tf.keras.Sequential([\n",
        "    hub.KerasLayer(MODULE_HANDLE, input_shape=(IMAGE_SIZE, IMAGE_SIZE, 3)),\n",
        "    tf.keras.layers.Dense(num_classes, activation='softmax')\n",
        "])\n",
        "model.summary()"
      ],
      "execution_count": 12,
      "outputs": [
        {
          "output_type": "stream",
          "text": [
            "Model: \"sequential\"\n",
            "_________________________________________________________________\n",
            "Layer (type)                 Output Shape              Param #   \n",
            "=================================================================\n",
            "keras_layer (KerasLayer)     (None, 2048)              23564800  \n",
            "_________________________________________________________________\n",
            "dense (Dense)                (None, 2)                 4098      \n",
            "=================================================================\n",
            "Total params: 23,568,898\n",
            "Trainable params: 4,098\n",
            "Non-trainable params: 23,564,800\n",
            "_________________________________________________________________\n"
          ],
          "name": "stdout"
        }
      ]
    },
    {
      "cell_type": "code",
      "metadata": {
        "id": "mpMG10NyiRYq"
      },
      "source": [
        "def set_adam_optimizer():\n",
        "    optimizer = tf.keras.optimizers.Adam()\n",
        "    return optimizer"
      ],
      "execution_count": 13,
      "outputs": []
    },
    {
      "cell_type": "code",
      "metadata": {
        "colab": {
          "base_uri": "https://localhost:8080/"
        },
        "id": "LoynAIU-iaJR",
        "outputId": "3275f1ad-19f3-4d06-a10b-4a24089a84b4"
      },
      "source": [
        "## TEST CODE:\n",
        "\n",
        "test_optimizer = set_adam_optimizer()\n",
        "\n",
        "print(type(test_optimizer))\n",
        "\n",
        "del test_optimizer"
      ],
      "execution_count": 14,
      "outputs": [
        {
          "output_type": "stream",
          "text": [
            "<class 'tensorflow.python.keras.optimizer_v2.adam.Adam'>\n"
          ],
          "name": "stdout"
        }
      ]
    },
    {
      "cell_type": "code",
      "metadata": {
        "id": "v3aQ6GXTibt5"
      },
      "source": [
        "def set_sparse_cat_crossentropy_loss():\n",
        "    # Define object oriented metric of Sparse categorical crossentropy for train and val loss\n",
        "    train_loss = tf.keras.losses.SparseCategoricalCrossentropy()\n",
        "    val_loss = tf.keras.losses.SparseCategoricalCrossentropy()\n",
        "    return train_loss, val_loss"
      ],
      "execution_count": 15,
      "outputs": []
    },
    {
      "cell_type": "code",
      "metadata": {
        "colab": {
          "base_uri": "https://localhost:8080/"
        },
        "id": "b9IP_Va9iv2i",
        "outputId": "a3f86271-a31f-434c-db02-b302558636f2"
      },
      "source": [
        "## TEST CODE:\n",
        "\n",
        "test_train_loss, test_val_loss = set_sparse_cat_crossentropy_loss()\n",
        "\n",
        "print(type(test_train_loss))\n",
        "print(type(test_val_loss))\n",
        "\n",
        "del test_train_loss, test_val_loss"
      ],
      "execution_count": 16,
      "outputs": [
        {
          "output_type": "stream",
          "text": [
            "<class 'tensorflow.python.keras.losses.SparseCategoricalCrossentropy'>\n",
            "<class 'tensorflow.python.keras.losses.SparseCategoricalCrossentropy'>\n"
          ],
          "name": "stdout"
        }
      ]
    },
    {
      "cell_type": "code",
      "metadata": {
        "id": "bDN1_U8UixTb"
      },
      "source": [
        "def set_sparse_cat_crossentropy_accuracy():\n",
        "    # Define object oriented metric of Sparse categorical accuracy for train and val accuracy\n",
        "    train_accuracy = tf.keras.metrics.SparseCategoricalAccuracy()\n",
        "    val_accuracy = tf.keras.metrics.SparseCategoricalAccuracy()\n",
        "    return train_accuracy, val_accuracy"
      ],
      "execution_count": 17,
      "outputs": []
    },
    {
      "cell_type": "code",
      "metadata": {
        "colab": {
          "base_uri": "https://localhost:8080/"
        },
        "id": "yO3X_rmki6lJ",
        "outputId": "1cce01a0-a94c-41b7-ad5b-9756d0380ee7"
      },
      "source": [
        "## TEST CODE:\n",
        "\n",
        "test_train_accuracy, test_val_accuracy = set_sparse_cat_crossentropy_accuracy()\n",
        "\n",
        "print(type(test_train_accuracy))\n",
        "print(type(test_val_accuracy))\n",
        "\n",
        "del test_train_accuracy, test_val_accuracy"
      ],
      "execution_count": 18,
      "outputs": [
        {
          "output_type": "stream",
          "text": [
            "<class 'tensorflow.python.keras.metrics.SparseCategoricalAccuracy'>\n",
            "<class 'tensorflow.python.keras.metrics.SparseCategoricalAccuracy'>\n"
          ],
          "name": "stdout"
        }
      ]
    },
    {
      "cell_type": "code",
      "metadata": {
        "id": "_Zpwxbqii_Za"
      },
      "source": [
        "optimizer = set_adam_optimizer()\n",
        "train_loss, val_loss = set_sparse_cat_crossentropy_loss()\n",
        "train_accuracy, val_accuracy = set_sparse_cat_crossentropy_accuracy()"
      ],
      "execution_count": 19,
      "outputs": []
    },
    {
      "cell_type": "markdown",
      "metadata": {
        "id": "7_UYX8hcjJFj"
      },
      "source": [
        "### Define the training loop\n",
        "In the training loop:\n",
        "- Get the model predictions: use the model, passing in the input `x`\n",
        "- Get the training loss: Call `train_loss`, passing in the true `y` and the predicted `y`.\n",
        "- Calculate the gradient of the loss with respect to the model's variables: use `tape.gradient` and pass in the loss and the model's `trainable_variables`.\n",
        "- Optimize the model variables using the gradients: call `optimizer.apply_gradients` and pass in a `zip()` of the two lists: the gradients and the model's `trainable_variables`.\n",
        "- Calculate accuracy: Call `train_accuracy`, passing in the true `y` and the predicted `y`."
      ]
    },
    {
      "cell_type": "code",
      "metadata": {
        "id": "bcZTOTwvjBRM"
      },
      "source": [
        "# this code uses the GPU if available, otherwise uses a CPU\n",
        "device = '/gpu:0' if tf.config.list_physical_devices('GPU') else '/cpu:0'\n",
        "EPOCHS = 2\n",
        "\n",
        "# Custom training step\n",
        "def train_one_step(model, optimizer, x, y, train_loss, train_accuracy):\n",
        "    '''\n",
        "    Trains on a batch of images for one step.\n",
        "    \n",
        "    Args:\n",
        "        model (keras Model) -- image classifier\n",
        "        optimizer (keras Optimizer) -- optimizer to use during training\n",
        "        x (Tensor) -- training images\n",
        "        y (Tensor) -- training labels\n",
        "        train_loss (keras Loss) -- loss object for training\n",
        "        train_accuracy (keras Metric) -- accuracy metric for training\n",
        "    '''\n",
        "    with tf.GradientTape() as tape:\n",
        "       # Run the model on input x to get predictions\n",
        "        predictions = model(x)\n",
        "        # Compute the training loss using `train_loss`, passing in the true y and the predicted y\n",
        "        loss = train_loss(y,predictions)\n",
        "\n",
        "    # Using the tape and loss, compute the gradients on model variables using tape.gradient\n",
        "    grads = tape.gradient(loss,model.trainable_weights)\n",
        "    # Zip the gradients and model variables, and then apply the result on the optimizer\n",
        "    optimizer.apply_gradients(zip(grads,model.trainable_weights))\n",
        "\n",
        "    # Call the train accuracy object on ground truth and predictions\n",
        "    train_accuracy.update_state(y,predictions)\n",
        "    return loss"
      ],
      "execution_count": 20,
      "outputs": []
    },
    {
      "cell_type": "code",
      "metadata": {
        "colab": {
          "base_uri": "https://localhost:8080/"
        },
        "id": "1Rqoh0EekJk9",
        "outputId": "9a0065af-8369-46f7-d56f-77400229d4a7"
      },
      "source": [
        "## TEST CODE:\n",
        "\n",
        "def base_model():\n",
        "    inputs = tf.keras.layers.Input(shape=(2))\n",
        "    x = tf.keras.layers.Dense(64, activation='relu')(inputs)\n",
        "    outputs = tf.keras.layers.Dense(1, activation='sigmoid')(x)\n",
        "    model = tf.keras.Model(inputs=inputs, outputs=outputs)\n",
        "    return model\n",
        "\n",
        "test_model = base_model()\n",
        "\n",
        "test_optimizer = set_adam_optimizer()\n",
        "test_image = tf.ones((2,2))\n",
        "test_label = tf.ones((1,))\n",
        "test_train_loss, _ = set_sparse_cat_crossentropy_loss()\n",
        "test_train_accuracy, _ = set_sparse_cat_crossentropy_accuracy()\n",
        "\n",
        "test_result = train_one_step(test_model, test_optimizer, test_image, test_label, test_train_loss, test_train_accuracy)\n",
        "print(test_result)\n",
        "\n",
        "del test_result, test_model, test_optimizer, test_image, test_label, test_train_loss, test_train_accuracy"
      ],
      "execution_count": 21,
      "outputs": [
        {
          "output_type": "stream",
          "text": [
            "tf.Tensor(0.6931472, shape=(), dtype=float32)\n"
          ],
          "name": "stdout"
        }
      ]
    },
    {
      "cell_type": "markdown",
      "metadata": {
        "id": "ijBrwCzQlfta"
      },
      "source": [
        "## Define the 'train' function \n",
        "You'll first loop through the training batches to train the model. (Please complete these sections)\n",
        "- The `train` function will use a for loop to iteratively call the `train_one_step` function that you just defined.\n",
        "- You'll use `tf.print` to print the step number, loss, and train_accuracy.result() at each step.  Remember to use tf.print when you plan to generate autograph code.\n",
        "\n",
        "Next, you'll loop through the batches of the validation set to calculation the validation loss and validation accuracy. (This code is provided for you).  At each iteration of the loop:\n",
        "- Use the model to predict on x, where x is the input from the validation set.\n",
        "- Use val_loss to calculate the validation loss between the true validation 'y' and predicted y.\n",
        "- Use val_accuracy to calculate the accuracy of the predicted y compared to the true y.\n",
        "\n",
        "Finally, you'll print the validation loss and accuracy using tf.print. (Please complete this section)\n",
        "- print the final `loss`, which is the validation loss calculated by the last loop through the validation dataset.\n",
        "- Also print the val_accuracy.result()."
      ]
    },
    {
      "cell_type": "code",
      "metadata": {
        "id": "foUu-BEwkMXp"
      },
      "source": [
        "# Decorate this function with tf.function to enable autograph on the training loop\n",
        "@tf.function\n",
        "def train(model, optimizer, epochs, device, train_ds, train_loss, train_accuracy, valid_ds, val_loss, val_accuracy):\n",
        "    '''\n",
        "    Performs the entire training loop. Prints the loss and accuracy per step and epoch.\n",
        "    \n",
        "    Args:\n",
        "        model (keras Model) -- image classifier\n",
        "        optimizer (keras Optimizer) -- optimizer to use during training\n",
        "        epochs (int) -- number of epochs\n",
        "        train_ds (tf Dataset) -- the train set containing image-label pairs\n",
        "        train_loss (keras Loss) -- loss function for training\n",
        "        train_accuracy (keras Metric) -- accuracy metric for training\n",
        "        valid_ds (Tensor) -- the val set containing image-label pairs\n",
        "        val_loss (keras Loss) -- loss object for validation\n",
        "        val_accuracy (keras Metric) -- accuracy metric for validation\n",
        "    '''\n",
        "    step = 0\n",
        "    loss = 0.0\n",
        "    for epoch in range(epochs):\n",
        "        for x, y in train_ds:\n",
        "            # training step number increments at each iteration\n",
        "            step += 1\n",
        "            with tf.device(device_name=device):\n",
        "                # Run one training step by passing appropriate model parameters\n",
        "                # required by the function and finally get the loss to report the results\n",
        "                loss = train_one_step(model, optimizer, x, y, train_loss, train_accuracy)\n",
        "                \n",
        "            # Use tf.print to report your results.\n",
        "            # Print the training step number, loss and accuracy\n",
        "            tf.print('Step', step, \n",
        "                   ': train loss', loss, \n",
        "                   '; train accuracy', train_accuracy.result())\n",
        "\n",
        "        with tf.device(device_name=device):\n",
        "            for x, y in valid_ds:\n",
        "                # Call the model on the batches of inputs x and get the predictions\n",
        "                y_pred = model(x)\n",
        "                loss = val_loss(y, y_pred)\n",
        "                val_accuracy.update_state(y, y_pred)\n",
        "        \n",
        "        tf.print('val loss', loss, '; val accuracy', val_accuracy)\n"
      ],
      "execution_count": 22,
      "outputs": []
    },
    {
      "cell_type": "code",
      "metadata": {
        "colab": {
          "base_uri": "https://localhost:8080/"
        },
        "id": "Q-3hrxCzn1LM",
        "outputId": "f0c7998f-126b-4248-9c2f-bc47106b70af"
      },
      "source": [
        "train(model, optimizer, EPOCHS, device, train_ds, train_loss, train_accuracy, valid_ds, val_loss, val_accuracy)"
      ],
      "execution_count": null,
      "outputs": [
        {
          "output_type": "stream",
          "text": [
            "Step 1 : train loss 0.841841161 ; train accuracy 0.53125\n",
            "Step 2 : train loss 0.499079645 ; train accuracy 0.671875\n",
            "Step 3 : train loss 0.350663722 ; train accuracy 0.729166687\n",
            "Step 4 : train loss 0.210916817 ; train accuracy 0.7734375\n",
            "Step 5 : train loss 0.18768771 ; train accuracy 0.80625\n",
            "Step 6 : train loss 0.17376703 ; train accuracy 0.833333313\n",
            "Step 7 : train loss 0.0571657903 ; train accuracy 0.857142866\n",
            "Step 8 : train loss 0.137771323 ; train accuracy 0.8671875\n",
            "Step 9 : train loss 0.0272809248 ; train accuracy 0.881944418\n",
            "Step 10 : train loss 0.0363334604 ; train accuracy 0.890625\n",
            "Step 11 : train loss 0.0136075076 ; train accuracy 0.900568187\n",
            "Step 12 : train loss 0.0108991489 ; train accuracy 0.908854187\n",
            "Step 13 : train loss 0.00980621111 ; train accuracy 0.915865362\n",
            "Step 14 : train loss 0.00880266726 ; train accuracy 0.921875\n",
            "Step 15 : train loss 0.00714600226 ; train accuracy 0.927083313\n",
            "Step 16 : train loss 0.00330783799 ; train accuracy 0.931640625\n",
            "Step 17 : train loss 0.00347818434 ; train accuracy 0.935661793\n",
            "Step 18 : train loss 0.00697124423 ; train accuracy 0.939236104\n",
            "Step 19 : train loss 0.00321757048 ; train accuracy 0.942434192\n",
            "Step 20 : train loss 0.00271103811 ; train accuracy 0.9453125\n",
            "Step 21 : train loss 0.00261151954 ; train accuracy 0.947916687\n",
            "Step 22 : train loss 0.00391740585 ; train accuracy 0.950284064\n",
            "Step 23 : train loss 0.00285498775 ; train accuracy 0.952445626\n",
            "Step 24 : train loss 0.00305484771 ; train accuracy 0.954427063\n",
            "Step 25 : train loss 0.00128518464 ; train accuracy 0.95625\n",
            "Step 26 : train loss 0.00502601219 ; train accuracy 0.957420945\n"
          ],
          "name": "stdout"
        }
      ]
    },
    {
      "cell_type": "code",
      "metadata": {
        "id": "CM9bL4XyqPNy"
      },
      "source": [
        "# Utilities for plotting\n",
        "\n",
        "class_names = ['horse', 'human']\n",
        "\n",
        "def plot_image(i, predictions_array, true_label, img):\n",
        "    predictions_array, true_label, img = predictions_array[i], true_label[i], img[i]\n",
        "    plt.grid(False)\n",
        "    plt.xticks([])\n",
        "    plt.yticks([])\n",
        "\n",
        "    img = np.squeeze(img)\n",
        "\n",
        "    plt.imshow(img, cmap=plt.cm.binary)\n",
        "\n",
        "    predicted_label = np.argmax(predictions_array)\n",
        "    \n",
        "    # green-colored annotations will mark correct predictions. red otherwise.\n",
        "    if predicted_label == true_label:\n",
        "        color = 'green'\n",
        "    else:\n",
        "        color = 'red'\n",
        "    \n",
        "    # print the true label first\n",
        "    print(true_label)\n",
        "  \n",
        "    # show the image and overlay the prediction\n",
        "    plt.xlabel(\"{} {:2.0f}% ({})\".format(class_names[predicted_label],\n",
        "                                100*np.max(predictions_array),\n",
        "                                class_names[true_label]),\n",
        "                                color=color)\n",
        "\n"
      ],
      "execution_count": null,
      "outputs": []
    },
    {
      "cell_type": "code",
      "metadata": {
        "id": "WA-QAdcAqRAj"
      },
      "source": [
        "# Visualize the outputs \n",
        "\n",
        "# you can modify the index value here from 0 to 255 to test different images\n",
        "index = 8 \n",
        "plt.figure(figsize=(6,3))\n",
        "plt.subplot(1,2,1)\n",
        "plot_image(index, predictions, test_labels, test_imgs)\n",
        "plt.show()"
      ],
      "execution_count": null,
      "outputs": []
    },
    {
      "cell_type": "code",
      "metadata": {
        "id": "Keu0RCH5qTAR"
      },
      "source": [
        ""
      ],
      "execution_count": null,
      "outputs": []
    }
  ]
}